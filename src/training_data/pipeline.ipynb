{
 "cells": [
  {
   "cell_type": "markdown",
   "metadata": {},
   "source": [
    "## Load data and import functions"
   ]
  },
  {
   "cell_type": "code",
   "execution_count": null,
   "metadata": {},
   "outputs": [],
   "source": [
    "from eddies import load_netcdf4,eddy_detection,dataframe_eddies,plot_eddies,julianh2gregorian\n",
    "import os\n",
    "from matplotlib.patches import Rectangle\n",
    "import matplotlib.pyplot as plt\n",
    "from math import cos, pi\n",
    "import numpy as np\n",
    "import xarray as xr\n",
    "import datetime\n",
    "\n",
    "#name of the netCDF data file\n",
    "filepath = 'C:/Master/data/cmems_data/global_10km/phys_noland_001.nc'\n",
    "\n",
    "# load data\n",
    "(ds,t,lon,lat,depth,uvel,vvel,sst,ssl) =  load_netcdf4(filepath)\n",
    "\n",
    "# Confidence level, usually 90%\n",
    "R2_criterion = 0.9\n",
    "\n",
    "# OW value at which to begin the evaluation of R2, default was -1, want to use -8 to be absolutely sure\n",
    "OW_start = -6.0\n",
    "\n",
    "# Number of local minima to evaluate using R2 method.\n",
    "# Set low (like 20) to see a few R2 eddies quickly.\n",
    "# Set high (like 1e5) to find all eddies in domain.\n",
    "max_evaluation_points = 2000 #set to 2000 to capture avery minima, there should be around 1800\n",
    "\n",
    "# Minimum number of cells required to be identified as an eddie.\n",
    "min_eddie_cells = 2 # set to 3 to be coherent with the use of the R2 method, 3 points seems like a reasonable minimun for a correlation \n",
    "\n",
    "# z-level to plot.  Usually set to 0 for the surface.\n",
    "k_plot = 0"
   ]
  },
  {
   "cell_type": "markdown",
   "metadata": {},
   "source": [
    "## Run OW-R2 algorithm"
   ]
  },
  {
   "cell_type": "code",
   "execution_count": null,
   "metadata": {},
   "outputs": [],
   "source": [
    "%%capture\n",
    "day = 0\n",
    "lon,lat,u,v,vorticity,OW,OW_eddies,eddie_census,nEddies,circulation_mask = eddy_detection(\n",
    "    lon,lat,depth,uvel,vvel,day,R2_criterion,OW_start,max_evaluation_points,min_eddie_cells)"
   ]
  },
  {
   "cell_type": "markdown",
   "metadata": {},
   "source": [
    "## Prepare datasets and lists"
   ]
  },
  {
   "cell_type": "code",
   "execution_count": null,
   "metadata": {},
   "outputs": [],
   "source": [
    "eddyCtrIdx = []\n",
    "for i in range(0,nEddies):\n",
    "    lonIdx = np.argmax(lon>eddie_census[2,i])-1\n",
    "    latIdx = np.argmax(lat>eddie_census[3,i])-1\n",
    "    eddyCtrIdx.append( (lonIdx, latIdx) )\n",
    "\n",
    "sst = sst[0,:,:].T\n",
    "ssl = ssl[0,:,:].T\n",
    "uvel = uvel[0,:,:].T\n",
    "vvel = vvel[0,:,:].T\n",
    "\n",
    "images = [\n",
    "    {\n",
    "        'longitude': [],\n",
    "        'latitude': [],\n",
    "        'sst': [],\n",
    "        'ssl': [],\n",
    "        'uvel': [],\n",
    "        'vvel': [],\n",
    "        'phase': [],\n",
    "        'class': -1\n",
    "     }\n",
    "     for i in range(nEddies) \n",
    "]"
   ]
  },
  {
   "cell_type": "markdown",
   "metadata": {},
   "source": [
    "## Plot the temperature and water level map with boxes showing eddies"
   ]
  },
  {
   "cell_type": "code",
   "execution_count": null,
   "metadata": {},
   "outputs": [],
   "source": [
    "\n",
    "\n",
    "fig, axs = plt.subplots(1,2, figsize=(14,7), dpi= 80, facecolor='w', edgecolor='w', )\n",
    "\n",
    "sst_im = axs[0].contourf(lon, lat, sst.T, 25, cmap='rainbow',)\n",
    "ssl_im = axs[1].contourf(lon, lat, ssl.T, 25, cmap='rainbow',)\n",
    "\n",
    "for ax in axs:\n",
    "    for i in range(nEddies):\n",
    "\n",
    "        radius = eddie_census[5][i] * 1000 / 2 # eddie_census is diameter in km\n",
    "        ctrLat = lat[eddyCtrIdx[i][1]]     # Centre latitude, to get correct longitude depending on what latitude we're on\n",
    "        height = radius * 2.0 / 110.54e3 # 1 deg = 110.54 km \n",
    "        width = radius * 2.0 / (111.320e3 * cos(ctrLat*2*pi/360)) # 1 deg = 111.320*cos(latitude) km, using centre latitude as ref\n",
    "\n",
    "        #print(f\"width: {width}, height: {height}\")\n",
    "        bottomleft = (eddie_census[2][i]-width/2, eddie_census[3][i]-height/2)\n",
    "        #print(f\"Bottom left coordinates: {bottomleft}\\n\\n\")\n",
    "\n",
    "        rect = Rectangle(bottomleft, width, height, linewidth=1, edgecolor='k', facecolor='none')\n",
    "        ax.add_patch(rect)"
   ]
  },
  {
   "cell_type": "markdown",
   "metadata": {},
   "source": [
    "## Add all rectangular patches to an array of eddies\n",
    "\n",
    "We also include all data which might be interesting to test as training data for a deep learner. First dimension is the eddies (0:nEddies), with a dictionary of the following variables:\n",
    "* **longitude**\n",
    "* **latitude**\n",
    "* **sst**: Sea Surface Temperature\n",
    "* **ssl**: Sea Surface Level\n",
    "* **uvel**: Eastward ocean current velocity\n",
    "* **vvel**: Northward ocean current velocity\n",
    "* **phase**: Phase angle of the ocean current, i.e. its direction."
   ]
  },
  {
   "cell_type": "code",
   "execution_count": null,
   "metadata": {},
   "outputs": [],
   "source": [
    "for i in range(nEddies): # nEddies\n",
    "    centreCoord = (eddyCtrIdx[i][0], eddyCtrIdx[i][1])\n",
    "\n",
    "    radius = eddie_census[5][i] * 1000 *2 / 2 # eddie_census is diameter in km\n",
    "    # Change to square, since we are using the radius anyways\n",
    "\n",
    "    height = 1.8 * abs(radius / 110.54e3) # 1 deg = 110.54 km, 1.2 to be sure the image covers the eddy\n",
    "    width = 1.8 * abs(radius / (111.320e3 * cos(centreCoord[1]))) # 1 deg = 111.320*cos(latitude) km, using centre latitude as ref\n",
    "    \n",
    "    lon_bnds = [eddie_census[2][i]-width/2.0, eddie_census[2][i]+width/2.0] \n",
    "    lat_bnds = [eddie_census[3][i]-height/2.0, eddie_census[3][i]+height/2.0] \n",
    "    \n",
    "    # Indeces of current eddy image\n",
    "    lonIdxs = np.where((lon > lon_bnds[0]) & (lon < lon_bnds[1]))[0]\n",
    "    latIdxs = np.where((lat > lat_bnds[0]) & (lat < lat_bnds[1]))[0]\n",
    "    \n",
    "    sst_eddy   =   np.zeros((lonIdxs.size,latIdxs.size))\n",
    "    ssl_eddy   =   np.zeros((lonIdxs.size,latIdxs.size))\n",
    "    uvel_eddy  =   np.zeros((lonIdxs.size,latIdxs.size))\n",
    "    vvel_eddy  =   np.zeros((lonIdxs.size,latIdxs.size))\n",
    "    phase_eddy =   np.zeros((lonIdxs.size,latIdxs.size))\n",
    "\n",
    "    # Positive rotation (counter-clockwise) is a cyclone in the northern hemisphere because of the coriolis effect\n",
    "    if (eddie_census[1][i] > 0.0): images[i]['class'] = 1 # 1 is a cyclone, 0 is nothing and -1 is anti-cyclone (negative rotation)\n",
    "    else: images[i]['class'] = -1\n",
    "    \n",
    "    for j, lo in enumerate(lonIdxs):\n",
    "        for k, la in enumerate(latIdxs):\n",
    "            #idx = j*latIdxs.size + k\n",
    "            sst_eddy[j,k] = sst[lo,la]\n",
    "            ssl_eddy[j,k] = ssl[lo,la]\n",
    "            uvel_eddy[j,k] = uvel[lo,la]\n",
    "            vvel_eddy[j,k] = vvel[lo,la]\n",
    "            # Calculate the phase angle (direction) of the current\n",
    "            with np.errstate(all='ignore'): # Disable zero div warning\n",
    "                phase_eddy[j,k] = xr.ufuncs.rad2deg( xr.ufuncs.arctan2(vvel[lo,la], uvel[lo,la]) ) + 180\n",
    "    \n",
    "    images[i]['longitude'] = lon[lonIdxs]\n",
    "    images[i]['latitude'] = lat[latIdxs]\n",
    "    images[i]['sst'] = sst_eddy\n",
    "    images[i]['ssl'] = ssl_eddy\n",
    "    images[i]['uvel'] = uvel_eddy\n",
    "    images[i]['vvel'] = vvel_eddy\n",
    "    images[i]['phase'] = phase_eddy"
   ]
  },
  {
   "cell_type": "markdown",
   "metadata": {},
   "source": [
    "## Create images of the rectangular patches"
   ]
  },
  {
   "cell_type": "code",
   "execution_count": null,
   "metadata": {},
   "outputs": [],
   "source": [
    "def check_cyclone(flag):\n",
    "    # positive 1 denotes positive rotation, which is a cyclone in the norther hemisphere\n",
    "    if flag==1:   return \"cyclone\"\n",
    "    elif flag==-1:return \"anticyclone\"\n",
    "    else:         return \"nothing\""
   ]
  },
  {
   "cell_type": "markdown",
   "metadata": {},
   "source": [
    "# import os"
   ]
  },
  {
   "cell_type": "code",
   "execution_count": null,
   "metadata": {},
   "outputs": [],
   "source": [
    "\n",
    "dateStr = \"{:%d-%m-%Y}\".format(datetime.date(1950, 1, 1) + datetime.timedelta(hours=float(t[0])) )\n",
    "dirPath = 'C:/Master/TTK-4900-Master/images/'+dateStr+'/'\n",
    "if not os.path.exists(dirPath):\n",
    "    os.makedirs(dirPath)\n",
    "\n",
    "for imId in range(nEddies):\n",
    "    fig, axs = plt.subplots(2, 3, figsize=(10, 7), sharex=True, sharey=True)\n",
    "    lo = images[imId]['longitude']\n",
    "    la = images[imId]['latitude']\n",
    "    axs[0,0].contourf(lo, la, images[imId]['sst'].T, 10, cmap='rainbow')\n",
    "    axs[0,1].contourf(lo, la, images[imId]['ssl'].T, 10, cmap='rainbow')\n",
    "    axs[0,2].contourf(lo, la, images[imId]['uvel'].T, 10, cmap='rainbow')\n",
    "    axs[1,0].contourf(lo, la, images[imId]['vvel'].T, 10, cmap='rainbow')\n",
    "    axs[1,1].contourf(lo, la, images[imId]['phase'].T, 10, add_colorbar=True, cmap='CMRmap')\n",
    "    title = dateStr + \"_\" + check_cyclone(images[imId]['class'])\n",
    "    fig.suptitle(title, fontsize=16)\n",
    "    imPath = dirPath + title + f\"_{imId}.png\"     \n",
    "    plt.savefig(imPath, bbox_inches='tight')"
   ]
  },
  {
   "cell_type": "code",
   "execution_count": null,
   "metadata": {},
   "outputs": [],
   "source": [
    "def lon2km(lon, lat):\n",
    "    \"\"\" Convert from longitudinal displacement to km \"\"\"\n",
    "    return lon * 111.320e3 * cos(lat)\n",
    "    \n",
    "def lat2km(lat):\n",
    "    \"\"\" Convert from latitudinal displacement to km \"\"\"\n",
    "    return 110.54e3 * lat"
   ]
  },
  {
   "cell_type": "code",
   "execution_count": null,
   "metadata": {},
   "outputs": [],
   "source": [
    "from tools.bfs import bfs\n",
    "from operator import eq\n",
    "\n",
    "# Centre node\n",
    "for i in range(1):#range(nEddies): # nEddies\n",
    "    start = eddyCtrIdx[i][0], eddyCtrIdx[i][1]\n",
    "    neighbors = (-1, 0), (0, +1), (+1, 0), (0, -1) # possible neighbors\n",
    "    similar = eq # Eq method test the equality of the values.\n",
    "    eddyIdxs = np.array( list( bfs(OW_eddies, neighbors, start, similar) ) )\n",
    "    # Find center lon/lat index of eddy\n",
    "    lonCtrIdx = int( eddyIdxs[:,0].mean() )\n",
    "    latCtrIdx = int( eddyIdxs[:,1].mean() )\n",
    "    \n",
    "    # Find the displacement in lon/lat direction in km, and use the largest as diameter of eddy.\n",
    "    lonDiameter = ( eddyIdxs[:,0].max()-eddyIdxs[:,0].min() ) * 0.083 # 0.083 degrees resolution per index\n",
    "    latDiameter = ( eddyIdxs[:,1].max()-eddyIdxs[:,1].min() ) * 0.083\n"
   ]
  },
  {
   "cell_type": "code",
   "execution_count": null,
   "metadata": {},
   "outputs": [],
   "source": [
    "def dim(a):\n",
    "    if not type(a) == list:\n",
    "        return []\n",
    "    return [len(a)] + dim(a[0])\n",
    "\n",
    "x = np.array([[[9,2], [1,2]]])\n",
    "y = np.array([[[9,2], [1,2], [1,2]],[[9,2], [1,2], [1,2]],[[9,2], [1,2], [1,2]],[[1,2],[1,2], [1,2],[1,2]]])\n",
    "test = max([dim(i) for i in y])\n",
    "test"
   ]
  },
  {
   "cell_type": "code",
   "execution_count": null,
   "metadata": {},
   "outputs": [],
   "source": [
    "def blockshaped(arr, nrows, ncols):\n",
    "    \"\"\"\n",
    "    Return an array of shape (n, nrows, ncols) where\n",
    "    n * nrows * ncols = arr.size\n",
    "\n",
    "    If arr is a 2D array, the returned array should look like n subblocks with\n",
    "    each subblock preserving the \"physical\" layout of arr.\n",
    "    \"\"\"\n",
    "    h, w = arr.shape\n",
    "    assert h % nrows == 0, \"{} rows is not evenly divisble by {}\".format(h, nrows)\n",
    "    assert w % ncols == 0, \"{} cols is not evenly divisble by {}\".format(w, ncols)\n",
    "    return (arr.reshape(h//nrows, nrows, -1, ncols)\n",
    "               .swapaxes(1,2)\n",
    "               .reshape(-1, nrows, ncols))\n"
   ]
  },
  {
   "cell_type": "code",
   "execution_count": null,
   "metadata": {},
   "outputs": [],
   "source": [
    "myOW = OW[:,:,0]\n",
    "noneddy_masked = np.ma.masked_where(myOW < -1, myOW)\n",
    "fig = plt.subplots(figsize=(10, 7), sharex=True, sharey=True)\n",
    "plt.contourf(lon, lat, noneddy_masked.T, 10, cmap='rainbow')\n",
    "plt.xlim(-24.5,-23)\n",
    "plt.ylim(46.5, 47.5)"
   ]
  },
  {
   "cell_type": "code",
   "execution_count": null,
   "metadata": {},
   "outputs": [],
   "source": [
    "#ssl_masked = np.ma.masked_where(myOW < -1, ssl[0,:,:].T)\n",
    "fig = plt.subplots(figsize=(10, 7), sharex=True, sharey=True)\n",
    "levels = np.arange(-0.40,-0.1,0.01)\n",
    "plt.contourf(lon, lat, ssl[0,:,:].T.T, levels=levels)#20, cmap='rainbow')\n",
    "plt.xlim(-24.5,-23)\n",
    "plt.ylim(46.5, 47.5)"
   ]
  },
  {
   "cell_type": "code",
   "execution_count": null,
   "metadata": {},
   "outputs": [],
   "source": [
    "# Run the OW-R2 algorithm\n",
    "#lon,lat,u,v,vorticity,OW,OW_eddies,eddie_census,nEddies,circulation_mask = eddy_detection(\n",
    "#        lon,lat,depth,uvel_full,vvel_full,day,R2_criterion,OW_start,max_evaluation_points,min_eddie_cells)\n",
    "\n",
    "\n",
    "# Also create mask of where non-eddies are\n",
    "myOW = OW[:,:,0] # just a quick fix to remove depth...\n",
    "OW_noneddies = np.zeros(myOW.shape,dtype=int)\n",
    "OW_noneddies[np.where(myOW > -0.4)] = 1 # non-eddy are as 1\n",
    "OW_noneddies = np.ma.masked_equal(OW_noneddies, 0) # rest is masked\n",
    "\n",
    "fig = plt.subplots(figsize=(10, 7), sharex=True, sharey=True)\n",
    "plt.contourf(lon, lat, OW_noneddies.T, 10, cmap='rainbow')"
   ]
  },
  {
   "cell_type": "code",
   "execution_count": null,
   "metadata": {},
   "outputs": [],
   "source": [
    "x = [[[0,1,2],[3,4,5]],[[5,4,3],[2,1,0]]]\n",
    "\n",
    "from random import shuffle \n",
    "\n",
    "shuffle(x)\n",
    "#for ii, sublist in enumerate(x): \n",
    "#    shuffle(x[ii])\n",
    "\n",
    "\n",
    "x = [array( [ [] ] )]\n",
    "\n",
    "print(x)"
   ]
  },
  {
   "cell_type": "code",
   "execution_count": null,
   "metadata": {},
   "outputs": [],
   "source": [
    "\n",
    "tmp = np.array([])\n",
    "\n",
    "np.savez_compressed('C:/Master/TTK-4900-Master/training_data/data/test.npz', tmp)\n",
    "\n",
    "with np.load('C:/Master/TTK-4900-Master/training_data/data/test.npz') as data:\n",
    "    tmp = np.append(data['arr_0'], [[[3,2],[1,0]]], axis=0)\n",
    "    print(tmp)\n",
    "    np.savez_compressed('C:/Master/TTK-4900-Master/training_data/data/test.npz', tmp)\n",
    "    print(\"\\n\\n\")\n",
    "    \n",
    "with np.load('C:/Master/TTK-4900-Master/training_data/data/test.npz') as data:\n",
    "    tmp = np.append(data['arr_0'], [[[43, 23],[45,67]]], axis=0)\n",
    "    print(tmp)"
   ]
  },
  {
   "cell_type": "code",
   "execution_count": null,
   "metadata": {},
   "outputs": [],
   "source": [
    "with np.load('C:/Master/TTK-4900-Master/training_data/data/ssl_train.npz', allow_pickle=True) as data:\n",
    "    #tmp = np.append(data['arr_0'], [[[43, 23],[45,67]]], axis=0)\n",
    "    print(data['arr_0'])"
   ]
  },
  {
   "cell_type": "code",
   "execution_count": null,
   "metadata": {},
   "outputs": [],
   "source": [
    "import numpy as np\n",
    "a = np.array([[[[-1, 2],[-2,1]],[[1, -1],[5, 55]]],[[[6, 66],[8, 88]],[[-1, -11],[-2, -22]]]])\n",
    "print(a.shape)\n",
    "x = a.reshape(2,-1,2)\n",
    "print(x.shape)\n",
    "\n",
    "x = x.reshape(2,2,2,2)\n",
    "x[0,0,0,0] = 0\n",
    "print(x.shape)\n",
    "\n",
    "print(a)"
   ]
  }
 ],
 "metadata": {
  "kernelspec": {
   "display_name": "Python 3",
   "language": "python",
   "name": "python3"
  },
  "language_info": {
   "codemirror_mode": {
    "name": "ipython",
    "version": 3
   },
   "file_extension": ".py",
   "mimetype": "text/x-python",
   "name": "python",
   "nbconvert_exporter": "python",
   "pygments_lexer": "ipython3",
   "version": "3.6.10"
  }
 },
 "nbformat": 4,
 "nbformat_minor": 4
}
