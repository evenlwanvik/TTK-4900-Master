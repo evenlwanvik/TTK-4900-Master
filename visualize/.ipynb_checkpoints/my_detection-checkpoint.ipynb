{
 "cells": [
  {
   "cell_type": "markdown",
   "metadata": {},
   "source": [
    "## Load data and import functions"
   ]
  },
  {
   "cell_type": "code",
   "execution_count": 1,
   "metadata": {},
   "outputs": [
    {
     "ename": "ModuleNotFoundError",
     "evalue": "No module named 'eddies'",
     "output_type": "error",
     "traceback": [
      "\u001b[1;31m---------------------------------------------------------------------------\u001b[0m",
      "\u001b[1;31mModuleNotFoundError\u001b[0m                       Traceback (most recent call last)",
      "\u001b[1;32m<ipython-input-1-790de39c4573>\u001b[0m in \u001b[0;36m<module>\u001b[1;34m\u001b[0m\n\u001b[1;32m----> 1\u001b[1;33m \u001b[1;32mfrom\u001b[0m \u001b[0meddies\u001b[0m \u001b[1;32mimport\u001b[0m \u001b[0mload_netcdf4\u001b[0m\u001b[1;33m,\u001b[0m\u001b[0meddy_detection\u001b[0m\u001b[1;33m,\u001b[0m\u001b[0mdataframe_eddies\u001b[0m\u001b[1;33m,\u001b[0m\u001b[0mplot_eddies\u001b[0m\u001b[1;33m,\u001b[0m\u001b[0mjulianh2gregorian\u001b[0m\u001b[1;33m\u001b[0m\u001b[1;33m\u001b[0m\u001b[0m\n\u001b[0m\u001b[0;32m      2\u001b[0m \u001b[1;33m\u001b[0m\u001b[0m\n\u001b[0;32m      3\u001b[0m \u001b[1;31m#name of the netCDF data file\u001b[0m\u001b[1;33m\u001b[0m\u001b[1;33m\u001b[0m\u001b[1;33m\u001b[0m\u001b[0m\n\u001b[0;32m      4\u001b[0m \u001b[0mfilepath\u001b[0m \u001b[1;33m=\u001b[0m \u001b[1;34m'C:/Master/data/cmems_data/global_10km/phys_noland_001.nc'\u001b[0m\u001b[1;33m\u001b[0m\u001b[1;33m\u001b[0m\u001b[0m\n\u001b[0;32m      5\u001b[0m \u001b[1;33m\u001b[0m\u001b[0m\n",
      "\u001b[1;31mModuleNotFoundError\u001b[0m: No module named 'eddies'"
     ]
    }
   ],
   "source": [
    "from eddies import load_netcdf4,eddy_detection,dataframe_eddies,plot_eddies,julianh2gregorian\n",
    "\n",
    "#name of the netCDF data file\n",
    "filepath = 'C:/Master/data/cmems_data/global_10km/phys_noland_001.nc'\n",
    "\n",
    "# load data\n",
    "(ds,t,lon,lat,depth,uvel,vvel,sst,ssl) =  load_netcdf4(filepath)\n",
    "\n",
    "# Confidence level, usually 90%\n",
    "R2_criterion = 0.9\n",
    "\n",
    "# OW value at which to begin the evaluation of R2, default was -1, want to use -4 to be absolutely sure\n",
    "OW_start = -6.0\n",
    "\n",
    "# Number of local minima to evaluate using R2 method.\n",
    "# Set low (like 20) to see a few R2 eddies quickly.\n",
    "# Set high (like 1e5) to find all eddies in domain.\n",
    "max_evaluation_points = 2000 #set to 2000 to capture avery minima, there should be around 1800\n",
    "\n",
    "# Minimum number of cells required to be identified as an eddie.\n",
    "min_eddie_cells = 2 # set to 3 to be coherent with the use of the R2 method, 3 points seems like a reasonable minimun for a correlation \n",
    "\n",
    "# z-level to plot.  Usually set to 0 for the surface.\n",
    "k_plot = 0"
   ]
  },
  {
   "cell_type": "markdown",
   "metadata": {},
   "source": [
    "## Run OW-R2 algorithm"
   ]
  },
  {
   "cell_type": "code",
   "execution_count": null,
   "metadata": {},
   "outputs": [],
   "source": [
    "%%capture\n",
    "day = 0\n",
    "lon,lat,u,v,vorticity,OW,OW_eddies,eddie_census,nEddies,circulation_mask = eddy_detection(\n",
    "    lon,lat,depth,uvel,vvel,day,R2_criterion,OW_start,max_evaluation_points,min_eddie_cells)"
   ]
  }
 ],
 "metadata": {
  "kernelspec": {
   "display_name": "Python 3",
   "language": "python",
   "name": "python3"
  },
  "language_info": {
   "codemirror_mode": {
    "name": "ipython",
    "version": 3
   },
   "file_extension": ".py",
   "mimetype": "text/x-python",
   "name": "python",
   "nbconvert_exporter": "python",
   "pygments_lexer": "ipython3",
   "version": "3.7.6"
  }
 },
 "nbformat": 4,
 "nbformat_minor": 4
}
