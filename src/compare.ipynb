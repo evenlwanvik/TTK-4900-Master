{
 "cells": [
  {
   "cell_type": "code",
   "execution_count": null,
   "metadata": {},
   "outputs": [],
   "source": [
    "%%capture\n",
    "\n",
    "import importlib\n",
    "\n",
    "from compare_tools import *\n",
    "import matplotlib.pyplot as plt\n",
    "import numpy as np\n",
    "import cv2\n",
    "from cnn import cnn_predict_grid\n",
    "from skimage import measure\n",
    "from tools.load_nc import load_nc_cmems, load_nc_sinmod\n",
    "from matplotlib.patches import Rectangle\n",
    "import pandas as pd\n",
    "from scipy.interpolate import griddata, interp2d\n",
    "from scipy.signal import resample\n",
    "import tools.grid_conversion\n",
    "importlib.reload(tools.grid_conversion)\n",
    "from scipy.spatial import cKDTree"
   ]
  },
  {
   "cell_type": "markdown",
   "metadata": {},
   "source": [
    "# Prepare data for analysis"
   ]
  },
  {
   "cell_type": "markdown",
   "metadata": {},
   "source": [
    "### Load NC data"
   ]
  },
  {
   "cell_type": "code",
   "execution_count": null,
   "metadata": {},
   "outputs": [],
   "source": [
    "# Load satellite netcdf data\n",
    "fPath = 'D:/master/data/cmems_data/global_10km/2016/full/phys_noland_2016_001.nc'\n",
    "lons_sat,lats_sat,sst_sat,ssl_sat,uvel_sat,vvel_sat =  load_nc_cmems(fPath)\n",
    "# Get SINMOD data\n",
    "fPath = 'D:/master/data/cmems_data/sinmod/samples_2017.04.27_nonoverlap.nc'\n",
    "x_sinmod,y_sinmod,lons_sinmod,lats_sinmod,sst_sinmod,ssl_sinmod,uvel_sinmod,vvel_sinmod =  tools.load_nc.load_nc_sinmod(fPath)"
   ]
  },
  {
   "cell_type": "markdown",
   "metadata": {},
   "source": [
    "### Convert satellite data to north-polar sterographic projection"
   ]
  },
  {
   "cell_type": "code",
   "execution_count": null,
   "metadata": {},
   "outputs": [],
   "source": [
    "# Get a polar steregraphic projection with cartesian irregular curvilinear grid for satellite data \n",
    "x_sat_2d, y_sat_2d = tools.grid_conversion.bl2xy(*np.meshgrid(lons_sat, lats_sat), FE=3254000, FN=2560000, xy_res=1, slon=58, SP=60)"
   ]
  },
  {
   "cell_type": "markdown",
   "metadata": {},
   "source": [
    "### Interpolate satellite data to high enough resolution such that extracting closest neighbor from the satellite measurements based on queries from the selected SINMOD grid won't have duplicates."
   ]
  },
  {
   "cell_type": "code",
   "execution_count": null,
   "metadata": {},
   "outputs": [],
   "source": [
    "# Interpolate data and the curvilienar grid axes such that it has a higher resolution than SINMOD\n",
    "sst_sat_it = interp2d_masked(sst_sat, lons_sat, lats_sat, 4, 'linear')\n",
    "ssl_sat_it = interp2d_masked(ssl_sat, lons_sat, lats_sat, 4, 'linear')\n",
    "uvel_sat_it = interp2d_masked(uvel_sat, lons_sat, lats_sat, 4, 'linear')\n",
    "vvel_sat_it = interp2d_masked(vvel_sat, lons_sat, lats_sat, 4, 'linear')\n",
    "x_sat_it = interp2d_masked(x_sat_2d.T, lons_sat, lats_sat, 4, 'linear')\n",
    "y_sat_it = interp2d_masked(y_sat_2d.T, lons_sat, lats_sat, 4, 'linear')"
   ]
  },
  {
   "cell_type": "markdown",
   "metadata": {},
   "source": [
    "### Select a grid that will be our basis of analysis"
   ]
  },
  {
   "cell_type": "code",
   "execution_count": null,
   "metadata": {},
   "outputs": [],
   "source": [
    "# Get SINMOD Grid\n",
    "x_bnds = [720000, 1560000]\n",
    "y_bnds = [650000, 1200000]\n",
    "x_idxs = np.where((x_sinmod >= x_bnds[0]) & (x_sinmod <= x_bnds[1]))[0]\n",
    "y_idxs = np.where((y_sinmod >= y_bnds[0]) & (y_sinmod <= y_bnds[1]))[0]\n",
    "\n",
    "x_sinmod = np.ma.array(x_sinmod[x_idxs])\n",
    "y_sinmod = np.ma.array(y_sinmod[y_idxs])\n",
    "lons_sinmod = np.ma.array(lons_sinmod[x_idxs[0]:x_idxs[-1]+1, y_idxs[0]:y_idxs[-1]+1])\n",
    "lats_sinmod = np.ma.array(lats_sinmod[x_idxs[0]:x_idxs[-1]+1, y_idxs[0]:y_idxs[-1]+1])\n",
    "sst_sinmod = np.ma.array(sst_sinmod[x_idxs[0]:x_idxs[-1]+1, y_idxs[0]:y_idxs[-1]+1])\n",
    "ssl_sinmod = np.ma.array(ssl_sinmod[x_idxs[0]:x_idxs[-1]+1, y_idxs[0]:y_idxs[-1]+1])\n",
    "uvel_sinmod = np.ma.array(uvel_sinmod[x_idxs[0]:x_idxs[-1]+1, y_idxs[0]:y_idxs[-1]+1])\n",
    "vvel_sinmod = np.ma.array(vvel_sinmod[x_idxs[0]:x_idxs[-1]+1, y_idxs[0]:y_idxs[-1]+1])"
   ]
  },
  {
   "cell_type": "markdown",
   "metadata": {},
   "source": [
    "### Create k-d tree to create a satellite grid with same axes as the selected SINMOD grid"
   ]
  },
  {
   "cell_type": "code",
   "execution_count": null,
   "metadata": {},
   "outputs": [],
   "source": [
    "# Create cKDTree object to represent the full flattened cartesian coordinates of the satellite data grid\n",
    "tree = cKDTree(list(zip(x_sat_it.flatten(), y_sat_it.flatten())))"
   ]
  },
  {
   "cell_type": "code",
   "execution_count": null,
   "metadata": {},
   "outputs": [],
   "source": [
    "# Find indices of the satellite data nearest to the SINMOD coordinates we use\n",
    "x_sinmod_2d, y_sinmod_2d = np.meshgrid(x_sinmod, y_sinmod)\n",
    "d, inds = tree.query(list(zip(x_sinmod_2d.ravel(), y_sinmod_2d.ravel())), k = 1)\n",
    "\n",
    "# Extract satellite data by query indexes to get same grid axes and apply the same landmass mask\n",
    "sinmod_mask = np.ma.getmask(ssl_sinmod)\n",
    "sst_sat_samegrid = np.ma.masked_where(sinmod_mask, sst_sat_it.flatten()[inds].reshape(uvel_sinmod.T.shape).T)\n",
    "ssl_sat_samegrid = np.ma.masked_where(sinmod_mask, ssl_sat_it.flatten()[inds].reshape(uvel_sinmod.T.shape).T)\n",
    "uvel_sat_samegrid = np.ma.masked_where(sinmod_mask, uvel_sat_it.flatten()[inds].reshape(uvel_sinmod.T.shape).T)\n",
    "vvel_sat_samegrid = np.ma.masked_where(sinmod_mask, vvel_sat_it.flatten()[inds].reshape(uvel_sinmod.T.shape).T)"
   ]
  },
  {
   "cell_type": "code",
   "execution_count": null,
   "metadata": {},
   "outputs": [],
   "source": [
    "# Rotate velocities to fit the shifted pole stereographic projection\n",
    "uvel_sinmod, vvel_sinmod = rotate_vector(uvel_sinmod, vvel_sinmod, lons_sinmod, 58)\n",
    "uvel_sat_samegrid, vvel_sat_samegrid = rotate_vector(uvel_sat_samegrid, vvel_sat_samegrid, lons_sinmod, 58)"
   ]
  },
  {
   "cell_type": "markdown",
   "metadata": {},
   "source": [
    "# Process satellite data"
   ]
  },
  {
   "cell_type": "markdown",
   "metadata": {},
   "source": [
    "### Perform pyramid sliding window on grid and return use CNN model to predict rectangles"
   ]
  },
  {
   "cell_type": "code",
   "execution_count": null,
   "metadata": {},
   "outputs": [],
   "source": [
    "%%capture\n",
    "model_fpath = 'D:/master/models/2016/cnn_mult_velocities_9652.h5'\n",
    "cnn_win_sizes = [((int(9), int(5)), 2, 2),((int(12), int(7)), 3, 2),((int(15), int(9)), 3, 3)]\n",
    "cnn_data = [lons_sinmod, lats_sinmod, x_sinmod, y_sinmod, ssl_sat_samegrid, uvel_sat_samegrid, vvel_sat_samegrid]\n",
    "# Get the cyclone and anti-cyclone rectangle\n",
    "cyclones_sat, anticyclones_sat = cnn_predict_grid(cnn_data, cnn_win_sizes, 0.95, model_fpath, storedir=\"sat1\")"
   ]
  },
  {
   "cell_type": "code",
   "execution_count": null,
   "metadata": {},
   "outputs": [],
   "source": [
    "# Group all predicted boxes according to overlap and number of rectangles in a group\n",
    "cyc_sat, _ = cv2.groupRectangles(rectList=cyclones_sat, groupThreshold=3, eps=0.1)\n",
    "acyc_sat, _ = cv2.groupRectangles(rectList=anticyclones_sat, groupThreshold=3, eps=0.1)\n",
    "nCyc, nAcyc = len(cyc_sat), len(acyc_sat)"
   ]
  },
  {
   "cell_type": "markdown",
   "metadata": {},
   "source": [
    "### Use labeled binary clusters for each cyclone or anti-cyclone based on Okubo Weiss parameter and vorticity to find appropriate box surrounding the eddy"
   ]
  },
  {
   "cell_type": "code",
   "execution_count": null,
   "metadata": {},
   "outputs": [],
   "source": [
    "import compare_tools\n",
    "importlib.reload(compare_tools)\n",
    "\n",
    "# Create mask for OW values above threshold, one that contains cyclones (negative vorticity) \n",
    "# and vice versa for anti-cyclones\n",
    "# Default Okubo Weiss value was -1, want to use -8 to be absolutely sure, we have a more loose threshold to\n",
    "# indicate cells with vortex characteristics\n",
    "OW_start = -0.05\n",
    "OW,vorticity,OW_mask,OW_cyc_mask,OW_acyc_mask = compare_tools.calc_OW(lons_sinmod,lats_sinmod,uvel_sat_samegrid,vvel_sat_samegrid,OW_start)\n",
    "\n",
    "# We label all unique mask clusters\n",
    "OW_mask_labeled = measure.label(OW_mask)\n",
    "cyc_mask_labeled = measure.label(OW_cyc_mask)\n",
    "acyc_mask_labeled = measure.label(OW_acyc_mask)\n",
    "\n",
    "# Make the predicted boxes encompass the full cyclone or anti-cyclone clusters and return info about the eddy\n",
    "cyc_ctrIdxs, cyc_nCells, cyc_minOW, cyc_new_sat = investigate_cluster(cyc_sat, OW, cyc_mask_labeled, 'cyclone')\n",
    "acyc_ctrIdxs, acyc_nCells, acyc_minOW, acyc_new_sat = investigate_cluster(acyc_sat, OW, acyc_mask_labeled, 'anti-cyclone')\n",
    "\n",
    "# Eddy boxes given in lat-lon coordiantes\n",
    "cyc_boxcoords_sat = box2coords(x_sinmod, y_sinmod, cyc_new_sat)\n",
    "acyc_boxcoords_sat = box2coords(x_sinmod, y_sinmod, acyc_new_sat)"
   ]
  },
  {
   "cell_type": "markdown",
   "metadata": {},
   "source": [
    "### Show box surrounding the marked OW clusters before and after"
   ]
  },
  {
   "cell_type": "code",
   "execution_count": null,
   "metadata": {},
   "outputs": [],
   "source": [
    "fig, ax = plt.subplots(1,1,figsize=(15,12))\n",
    "ax.imshow(OW_mask_labeled.T, cmap='nipy_spectral', origin='lower')\n",
    "# Before\n",
    "plot_eddies(fig, ax, cyc_sat, 'r') \n",
    "plot_eddies(fig, ax, acyc_sat, 'b') \n",
    "# After\n",
    "plot_eddies(fig, ax, cyc_new_sat, 'r', numbered=False) \n",
    "plot_eddies(fig, ax, acyc_new_sat, 'b', numbered=False) "
   ]
  },
  {
   "cell_type": "code",
   "execution_count": null,
   "metadata": {},
   "outputs": [],
   "source": [
    "fig, ax = plt.subplots(1,1,figsize=(15,12))\n",
    "ax.imshow(vorticity.T, cmap='nipy_spectral', origin='lower')\n",
    "# Before\n",
    "plot_eddies(fig, ax, cyc_sat, 'r') \n",
    "plot_eddies(fig, ax, acyc_sat, 'b') \n",
    "# After\n",
    "plot_eddies(fig, ax, cyc_new_sat, 'r', numbered=False) \n",
    "plot_eddies(fig, ax, acyc_new_sat, 'b', numbered=False) "
   ]
  },
  {
   "cell_type": "markdown",
   "metadata": {},
   "source": [
    "### Show plot of velocity streamplot and sea surface level with new boxes"
   ]
  },
  {
   "cell_type": "code",
   "execution_count": null,
   "metadata": {},
   "outputs": [],
   "source": [
    "fig, ax = plt.subplots(1,1,figsize=(15,12))#, dpi=500)\n",
    "ax.pcolormesh(x_sinmod, y_sinmod, ssl_sat_samegrid.T, cmap='rainbow')\n",
    "#ax.streamplot(X, Y, uvel, vvel.T, density=12)\n",
    "#x.quiver(x_sinmod,y_sinmod,uvel_sat_samegrid.T,vvel_sat_samegrid.T,scale=12)\n",
    "ax.streamplot(x_sinmod, y_sinmod, uvel_sat_samegrid.T, vvel_sat_samegrid.T, density=10) \n",
    "plot_eddies(fig, ax, cyc_boxcoords_sat, 'r') \n",
    "plot_eddies(fig, ax, acyc_boxcoords_sat, 'b') "
   ]
  },
  {
   "cell_type": "code",
   "execution_count": null,
   "metadata": {},
   "outputs": [],
   "source": [
    "# Eddy census to hold information about each eddy\n",
    "cyclone_census = np.zeros((nCyc, 6))\n",
    "anticyclone_census = np.zeros((nAcyc, 6))\n",
    "# Eddy census dataframe to show eddy info table\n",
    "cyc_census_df_sat = set_eddy_census(OW, anticyclone_census, acyc_ctrIdxs, acyc_nCells, acyc_new_sat, acyc_minOW, lons_sinmod, lats_sinmod, x_sinmod, y_sinmod, meastype='SINMOD')\n",
    "acyc_census_df_sat = set_eddy_census(OW, anticyclone_census, acyc_ctrIdxs, acyc_nCells, acyc_new_sat, acyc_minOW, lons_sinmod, lats_sinmod, x_sinmod, y_sinmod, meastype='SINMOD')"
   ]
  },
  {
   "cell_type": "markdown",
   "metadata": {},
   "source": [
    "# Process SINMOD data"
   ]
  },
  {
   "cell_type": "markdown",
   "metadata": {},
   "source": [
    "### Perform pyramid sliding window on grid and return use CNN model to predict rectangles"
   ]
  },
  {
   "cell_type": "code",
   "execution_count": null,
   "metadata": {},
   "outputs": [],
   "source": [
    "%%capture\n",
    "model_fpath = 'D:/master/models/2016/cnn_mult_velocities_9652.h5'\n",
    "cnn_win_sizes = [((int(9), int(5)), 2, 2),((int(12), int(7)), 3, 2),((int(15), int(9)), 3, 3)]\n",
    "cnn_data = [lons_sinmod, lats_sinmod, x_sinmod, y_sinmod, ssl_sinmod, uvel_sinmod, vvel_sinmod]\n",
    "# Get the cyclone and anti-cyclone rectangle\n",
    "cyclones_sinmod, anticyclones_sinmod = cnn_predict_grid(cnn_data, cnn_win_sizes, 0.90, model_fpath, storedir=\"sinmod1\")"
   ]
  },
  {
   "cell_type": "code",
   "execution_count": null,
   "metadata": {},
   "outputs": [],
   "source": [
    "# Group all predicted boxes according to overlap and number of rectangles in a group\n",
    "cyc_sinmod, _ = cv2.groupRectangles(rectList=cyclones_sinmod, groupThreshold=2, eps=0.15)\n",
    "acyc_sinmod, _ = cv2.groupRectangles(rectList=anticyclones_sinmod, groupThreshold=2, eps=0.15)\n",
    "nCyc, nAcyc = len(cyc_sinmod), len(acyc_sinmod)"
   ]
  },
  {
   "cell_type": "markdown",
   "metadata": {},
   "source": [
    "### Use labeled binary clusters for each cyclone or anti-cyclone based on Okubo Weiss parameter and vorticity to find appropriate box surrounding the eddy"
   ]
  },
  {
   "cell_type": "code",
   "execution_count": null,
   "metadata": {},
   "outputs": [],
   "source": [
    "%%capture\n",
    "# Create mask for OW values above threshold, one that contains cyclones (negative vorticity) \n",
    "# and vice versa for anti-cyclones\n",
    "# Default Okubo Weiss value was -1, want to use -8 to be absolutely sure, we have a more loose threshold to\n",
    "# indicate cells with vortex characteristics\n",
    "OW_start = -0.3\n",
    "OW,vorticity,OW_mask,OW_cyc_mask,OW_acyc_mask = calc_OW(lons_sinmod,lats_sinmod,uvel_sinmod,vvel_sinmod,OW_start)\n",
    "\n",
    "# We label all unique mask clusters\n",
    "OW_mask_labeled = measure.label(OW_mask)\n",
    "cyc_mask_labeled = measure.label(OW_cyc_mask)\n",
    "acyc_mask_labeled = measure.label(OW_acyc_mask)\n",
    "\n",
    "# Make the predicted boxes encompass the full cyclone or anti-cyclone clusters and return info about the eddy\n",
    "cyc_ctrIdxs, cyc_nCells, cyc_minOW, cyc_new_sinmod = investigate_cluster(cyc_sinmod, OW, cyc_mask_labeled, 'cyclone')\n",
    "acyc_ctrIdxs, acyc_nCells, acyc_minOW, acyc_new_sinmod = investigate_cluster(acyc_sinmod, OW, acyc_mask_labeled, 'anti-cyclone')\n",
    "\n",
    "# Eddy boxes given in lat-lon coordiantes\n",
    "cyc_boxcoords_sinmod = box2coords(x_sinmod, y_sinmod, cyc_new_sinmod)\n",
    "acyc_boxcoords_sinmod = box2coords(x_sinmod, y_sinmod, acyc_new_sinmod)"
   ]
  },
  {
   "cell_type": "markdown",
   "metadata": {},
   "source": [
    "### Show box surrounding the marked OW clusters before and after"
   ]
  },
  {
   "cell_type": "code",
   "execution_count": null,
   "metadata": {
    "scrolled": true
   },
   "outputs": [],
   "source": [
    "fig, ax = plt.subplots(1,1,figsize=(15,12))\n",
    "ax.imshow(OW_mask_labeled.T, cmap='nipy_spectral', origin='lower')\n",
    "# Before\n",
    "plot_eddies(fig, ax, cyc_sinmod, 'r') \n",
    "plot_eddies(fig, ax, acyc_sinmod, 'b') \n",
    "# After\n",
    "plot_eddies(fig, ax, cyc_new_sinmod, 'r', numbered=False) \n",
    "plot_eddies(fig, ax, acyc_new_sinmod, 'b', numbered=False) "
   ]
  },
  {
   "cell_type": "markdown",
   "metadata": {},
   "source": [
    "### Show plot of velocity streamplot and sea surface level with new boxes"
   ]
  },
  {
   "cell_type": "code",
   "execution_count": null,
   "metadata": {},
   "outputs": [],
   "source": [
    "fig, ax = plt.subplots(1,1,figsize=(15,12))#, dpi=500)\n",
    "ax.pcolormesh(x_sinmod, y_sinmod, ssl_sinmod.T, cmap='rainbow')\n",
    "#ax.streamplot(X, Y, uvel, vvel.T, density=12)\n",
    "#ax.quiver(x_sinmod,y_sinmod,uvel_sinmod.T,vvel_sinmod.T,scale=6)\n",
    "ax.streamplot(x_sinmod, y_sinmod, uvel_sinmod.T, vvel_sinmod.T, density=10) \n",
    "plot_eddies(fig, ax, cyc_boxcoords_sinmod, 'r') \n",
    "plot_eddies(fig, ax, acyc_boxcoords_sinmod, 'b') "
   ]
  },
  {
   "cell_type": "code",
   "execution_count": null,
   "metadata": {},
   "outputs": [],
   "source": [
    "# Eddy census to hold information about each eddy\n",
    "cyclone_census = np.zeros((nCyc, 6))\n",
    "anticyclone_census = np.zeros((nAcyc, 6))\n",
    "# Eddy census dataframe to show eddy info table\n",
    "cyc_census_df_sinmod = set_eddy_census(OW, cyclone_census, cyc_ctrIdxs, cyc_nCells, cyc_new_sinmod, cyc_minOW, lons_sinmod, lats_sinmod, x_sinmod, y_sinmod, meastype='SINMOD')\n",
    "acyc_census_df_sinmod = set_eddy_census(OW, anticyclone_census, acyc_ctrIdxs, acyc_nCells, acyc_new_sinmod, acyc_minOW, lons_sinmod, lats_sinmod, x_sinmod, y_sinmod, meastype='SINMOD')"
   ]
  },
  {
   "cell_type": "markdown",
   "metadata": {},
   "source": [
    "# Compare the two"
   ]
  },
  {
   "cell_type": "markdown",
   "metadata": {},
   "source": [
    "### Eddy census"
   ]
  },
  {
   "cell_type": "code",
   "execution_count": null,
   "metadata": {},
   "outputs": [],
   "source": [
    "cyc_census_df_sat"
   ]
  },
  {
   "cell_type": "code",
   "execution_count": null,
   "metadata": {},
   "outputs": [],
   "source": [
    "acyc_census_df_sat"
   ]
  },
  {
   "cell_type": "code",
   "execution_count": null,
   "metadata": {},
   "outputs": [],
   "source": [
    "cyc_census_df_sinmod"
   ]
  },
  {
   "cell_type": "code",
   "execution_count": null,
   "metadata": {},
   "outputs": [],
   "source": [
    "acyc_census_df_sinmod"
   ]
  },
  {
   "cell_type": "markdown",
   "metadata": {},
   "source": [
    "### Compare data; temperature, sea surface level, streamplot"
   ]
  },
  {
   "cell_type": "code",
   "execution_count": null,
   "metadata": {},
   "outputs": [],
   "source": [
    "fig, axes = plt.subplots(nrows=2, ncols=2, figsize=(18,18))\n",
    "\n",
    "def plot_eddies_wrapper(fig, ax, cyc, acyc):\n",
    "    plot_eddies(fig, ax, cyc, 'r') \n",
    "    plot_eddies(fig, ax, acyc, 'b') \n",
    "\n",
    "axes[0,0].contourf(x_sinmod, y_sinmod, sst_sat_samegrid.T, levels=40, cmap='rainbow', vmin=6.5, vmax=10.5)\n",
    "plot_eddies_wrapper(fig, axes[0,0], cyc_boxcoords_sat, acyc_boxcoords_sat)\n",
    "axes[0,0].set_title('SST Satelite')\n",
    "\n",
    "axes[0,1].contourf(x_sinmod, y_sinmod, sst_sinmod.T, levels=40, cmap='rainbow')\n",
    "plot_eddies_wrapper(fig, axes[0,1], cyc_boxcoords_sinmod, acyc_boxcoords_sinmod)\n",
    "axes[0,1].set_title('SST SINMOD')\n",
    "\n",
    "axes[1,0].contourf(x_sinmod, y_sinmod, ssl_sat_samegrid.T, levels=40, cmap='rainbow')\n",
    "plot_eddies_wrapper(fig, axes[1,0], cyc_boxcoords_sat, acyc_boxcoords_sat)\n",
    "axes[1,0].set_title('SSL Satelite')\n",
    "\n",
    "axes[1,1].contourf(x_sinmod, y_sinmod, ssl_sinmod.T, levels=40, cmap='rainbow')\n",
    "plot_eddies_wrapper(fig, axes[1,1], cyc_boxcoords_sinmod, acyc_boxcoords_sinmod)\n",
    "axes[1,1].set_title('SSL SINMOD')\n"
   ]
  }
 ],
 "metadata": {
  "kernelspec": {
   "display_name": "Python 3",
   "language": "python",
   "name": "python3"
  },
  "language_info": {
   "codemirror_mode": {
    "name": "ipython",
    "version": 3
   },
   "file_extension": ".py",
   "mimetype": "text/x-python",
   "name": "python",
   "nbconvert_exporter": "python",
   "pygments_lexer": "ipython3",
   "version": "3.6.10"
  }
 },
 "nbformat": 4,
 "nbformat_minor": 4
}
